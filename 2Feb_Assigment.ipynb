{
 "cells": [
  {
   "cell_type": "code",
   "execution_count": 1,
   "id": "af3060c9-8844-47d0-ab8d-227302da82e8",
   "metadata": {},
   "outputs": [
    {
     "data": {
      "text/plain": [
       "' 1 Question of 2 Feb Assigment'"
      ]
     },
     "execution_count": 1,
     "metadata": {},
     "output_type": "execute_result"
    }
   ],
   "source": [
    "''' 1 Question of 2 Feb Assigment'''"
   ]
  },
  {
   "cell_type": "code",
   "execution_count": 2,
   "id": "d956ea14-f7f7-4446-8594-86395c695f86",
   "metadata": {},
   "outputs": [
    {
     "name": "stdout",
     "output_type": "stream",
     "text": [
      "1\n",
      "2\n",
      "3\n",
      "4\n",
      "56\n",
      "7\n",
      "8\n",
      "9\n"
     ]
    }
   ],
   "source": [
    "a1 = [ 1,2,3,4,56,7,8,9]\n",
    "for x in a1:\n",
    "    print(x)"
   ]
  },
  {
   "cell_type": "code",
   "execution_count": 4,
   "id": "61d09948-083a-4890-a4cd-e73eabf00f51",
   "metadata": {},
   "outputs": [
    {
     "name": "stdout",
     "output_type": "stream",
     "text": [
      "1\n",
      "2\n",
      "3\n",
      "4\n",
      "56\n",
      "7\n",
      "8\n",
      "9\n"
     ]
    }
   ],
   "source": [
    "n=len(a1)\n",
    "i = 0\n",
    "while i < n:\n",
    "    print(a1[i])\n",
    "    i=i+1\n",
    "    "
   ]
  },
  {
   "cell_type": "code",
   "execution_count": 5,
   "id": "77d1f249-26cf-4e5b-803d-2fedfb2e704f",
   "metadata": {},
   "outputs": [
    {
     "data": {
      "text/plain": [
       "' 2 Question of 2 Feb Assigment'"
      ]
     },
     "execution_count": 5,
     "metadata": {},
     "output_type": "execute_result"
    }
   ],
   "source": [
    "''' 2 Question of 2 Feb Assigment'''\n"
   ]
  },
  {
   "cell_type": "code",
   "execution_count": 6,
   "id": "248d6104-0e89-439f-ac66-cc2e8b5a85bb",
   "metadata": {},
   "outputs": [
    {
     "name": "stdout",
     "output_type": "stream",
     "text": [
      "90\n",
      "0\n"
     ]
    }
   ],
   "source": [
    "a1 = [ 1,2,3,4,56,7,8,9]\n",
    "sum = 0\n",
    "for x in a1:\n",
    "    sum = sum + x\n",
    "print(sum)\n",
    "\n",
    "sum = 0\n",
    "n=len(a1)\n",
    "while i < n:\n",
    "    sum = sum + a[i]\n",
    "    i = i + 1\n",
    "print(sum)"
   ]
  },
  {
   "cell_type": "code",
   "execution_count": 9,
   "id": "93bf421e-ad6f-40cb-b35e-23400f91e966",
   "metadata": {},
   "outputs": [
    {
     "name": "stdout",
     "output_type": "stream",
     "text": [
      "90\n"
     ]
    }
   ],
   "source": [
    "a1 = [ 1,2,3,4,56,7,8,9]\n",
    "sum = 0\n",
    "n=len(a1)\n",
    "i =0\n",
    "while i < n:\n",
    "    sum = sum + a1[i]\n",
    "    i = i + 1\n",
    "print(sum)"
   ]
  },
  {
   "cell_type": "code",
   "execution_count": 11,
   "id": "17d1b322-d3c2-4515-9203-9fd6d770b15f",
   "metadata": {},
   "outputs": [
    {
     "name": "stdout",
     "output_type": "stream",
     "text": [
      "677376\n",
      "677376\n"
     ]
    }
   ],
   "source": [
    "a1 = [ 1,2,3,4,56,7,8,9]\n",
    "product = 1\n",
    "for x in a1:\n",
    "    product = product * x\n",
    "print(product)\n",
    "\n",
    "product = 1\n",
    "n=len(a1)\n",
    "i =0\n",
    "while i < n:\n",
    "    product = product * a1[i]\n",
    "    i = i + 1\n",
    "print(product)"
   ]
  },
  {
   "cell_type": "code",
   "execution_count": 40,
   "id": "d02e1fae-671e-424a-bab7-527f844cf558",
   "metadata": {},
   "outputs": [
    {
     "data": {
      "text/plain": [
       "' 3 Question of 2 Feb Assigment'"
      ]
     },
     "execution_count": 40,
     "metadata": {},
     "output_type": "execute_result"
    }
   ],
   "source": [
    "''' 3 Question of 2 Feb Assigment'''"
   ]
  },
  {
   "cell_type": "code",
   "execution_count": 39,
   "id": "532336c5-4b25-4c99-9526-7cea0ebd94b7",
   "metadata": {},
   "outputs": [
    {
     "data": {
      "text/plain": [
       "' 4 Question of 2 Feb Assigment'"
      ]
     },
     "execution_count": 39,
     "metadata": {},
     "output_type": "execute_result"
    }
   ],
   "source": [
    "''' 4 Question of 2 Feb Assigment'''"
   ]
  },
  {
   "cell_type": "code",
   "execution_count": 33,
   "id": "52e44c30-9455-4b92-98a1-70ca911254cf",
   "metadata": {},
   "outputs": [
    {
     "name": "stdout",
     "output_type": "stream",
     "text": [
      "[1, 8, 27, 64, 125, 216, 343, 512, 729, 1000, 1331, 1728, 2197, 2744, 3375, 4096, 4913, 5832, 6859, 8000, 9261, 10648, 12167, 13824, 15625, 17576, 19683, 21952, 24389, 27000, 29791, 32768, 35937, 39304, 42875, 46656, 50653, 54872, 59319, 64000, 68921, 74088, 79507, 85184, 91125, 97336, 103823, 110592, 117649, 125000, 132651, 140608, 148877, 157464, 166375, 175616, 185193, 195112, 205379, 216000, 226981, 238328, 250047, 262144, 274625, 287496, 300763, 314432, 328509, 343000, 357911, 373248, 389017, 405224, 421875, 438976, 456533, 474552, 493039, 512000, 531441, 551368, 571787, 592704, 614125, 636056, 658503, 681472, 704969, 729000, 753571, 778688, 804357, 830584, 857375, 884736, 912673, 941192, 970299, 1000000]\n",
      "[1000, 8000, 27000, 64000, 125000, 216000, 343000, 512000, 729000, 1000000]\n"
     ]
    }
   ],
   "source": [
    "a1 = [ x for x in  range(1,101) ]\n",
    "a2 = []\n",
    "a3 = []\n",
    "i = 1\n",
    "for x in a1:\n",
    "    a2.append(x*x*x)\n",
    "    product = x*x*x\n",
    "    rem = product % 4 or product % 5\n",
    "    if not rem:\n",
    "        a3.append(product)\n",
    "print(a2)\n",
    "print(a3)\n",
    "    \n",
    "    "
   ]
  },
  {
   "cell_type": "code",
   "execution_count": 34,
   "id": "91fa9a02-1a28-4e6a-8b73-8b5ded9539b8",
   "metadata": {},
   "outputs": [
    {
     "name": "stdout",
     "output_type": "stream",
     "text": [
      "[1000, 8000, 27000, 64000, 125000, 216000, 343000, 512000, 729000, 1000000]\n"
     ]
    }
   ],
   "source": [
    "a1 = [ x for x in  range(1,101) ]\n",
    "a2 = []\n",
    "a3 = []\n",
    "i = 1\n",
    "for x in a1:\n",
    "    a2.append(x*x*x)\n",
    "    product = x*x*x\n",
    "    if not (x*x*x % 4 or x*x*x % 5):\n",
    "        a3.append(x*x*x)\n",
    "print(a3)\n",
    "    "
   ]
  },
  {
   "cell_type": "code",
   "execution_count": 35,
   "id": "bf632c57-5784-4e6c-919a-3c3aa7ad94f5",
   "metadata": {},
   "outputs": [
    {
     "data": {
      "text/plain": [
       "' Q5. Write a program to filter count vowels in the below-given string.\\nstring = \"I want to become a data scientist\"'"
      ]
     },
     "execution_count": 35,
     "metadata": {},
     "output_type": "execute_result"
    }
   ],
   "source": [
    "''' Q5. Write a program to filter count vowels in the below-given string.\n",
    "string = \"I want to become a data scientist\"'''"
   ]
  },
  {
   "cell_type": "code",
   "execution_count": 38,
   "id": "f55b3410-2c98-443a-8cbc-e62d26b64e82",
   "metadata": {},
   "outputs": [
    {
     "name": "stdout",
     "output_type": "stream",
     "text": [
      "I\n",
      " \n",
      "w\n",
      "a\n",
      "n\n",
      "t\n",
      " \n",
      "t\n",
      "o\n",
      " \n",
      "b\n",
      "e\n",
      "c\n",
      "o\n",
      "m\n",
      "e\n",
      " \n",
      "a\n",
      " \n",
      "d\n",
      "a\n",
      "t\n",
      "a\n",
      " \n",
      "s\n",
      "c\n",
      "i\n",
      "e\n",
      "n\n",
      "t\n",
      "i\n",
      "s\n",
      "t\n",
      "11\n"
     ]
    }
   ],
   "source": [
    "str5 = 'I want to become a data scientist'\n",
    "vowels = ['a','e','i','o','u']\n",
    "count = 0\n",
    "for c in str5:\n",
    "    print(c)\n",
    "    if c in vowels:\n",
    "        count = count + 1\n",
    "print(count)"
   ]
  },
  {
   "cell_type": "code",
   "execution_count": 41,
   "id": "23f5212e-2071-487d-b60a-4136bfbee3e9",
   "metadata": {},
   "outputs": [
    {
     "data": {
      "text/plain": [
       "' 3 Question of 2 Feb Assigment'"
      ]
     },
     "execution_count": 41,
     "metadata": {},
     "output_type": "execute_result"
    }
   ],
   "source": [
    "''' 3 Question of 2 Feb Assigment'''"
   ]
  },
  {
   "cell_type": "code",
   "execution_count": 42,
   "id": "1c6e2ddc-0f33-4a41-8995-cc0bfec8e740",
   "metadata": {},
   "outputs": [
    {
     "name": "stdin",
     "output_type": "stream",
     "text": [
      "Enter the units  310\n"
     ]
    },
    {
     "name": "stdout",
     "output_type": "stream",
     "text": [
      "210\n",
      "110\n",
      "10\n",
      "2250.0\n"
     ]
    }
   ],
   "source": [
    "bill_amount = 0\n",
    "\n",
    "no_of_units = int(input(\"Enter the units \"))\n",
    "bill_amount = 0\n",
    "if no_of_units <= 100:\n",
    "    bill_amount = 4.5 * no_of_units\n",
    "elif no_of_units > 100 and no_of_units <= 200:\n",
    "\tbill_amount = 4.5 * 100\n",
    "\tno_of_units = no_of_units - 100\n",
    "\tbill_amount = bill_amount + 6 * no_of_units\n",
    "elif no_of_units > 200 and no_of_units <= 300:\n",
    "\tbill_amount = 4.5 * 100\n",
    "\tno_of_units = no_of_units - 100\n",
    "\tbill_amount = bill_amount + 6 * 100\n",
    "\tno_of_units = no_of_units - 100\n",
    "\tbill_amount = bill_amount + 10 * no_of_units\n",
    "else:\n",
    "\tbill_amount = 4.5 * 100\n",
    "\tno_of_units = no_of_units - 100\n",
    "\tprint(no_of_units)\n",
    "\tbill_amount = bill_amount + 6 * 100\n",
    "\tno_of_units = no_of_units - 100\n",
    "\tprint(no_of_units)\n",
    "\tbill_amount = bill_amount + 10 * 100\n",
    "\tno_of_units = no_of_units - 100\n",
    "\tprint(no_of_units)\n",
    "\tbill_amount = bill_amount + 20 * no_of_units\n",
    "\t\n",
    "print(bill_amount)"
   ]
  },
  {
   "cell_type": "code",
   "execution_count": null,
   "id": "112b0c24-2ca5-4364-b0ac-886eb0725837",
   "metadata": {},
   "outputs": [],
   "source": []
  }
 ],
 "metadata": {
  "kernelspec": {
   "display_name": "Python 3 (ipykernel)",
   "language": "python",
   "name": "python3"
  },
  "language_info": {
   "codemirror_mode": {
    "name": "ipython",
    "version": 3
   },
   "file_extension": ".py",
   "mimetype": "text/x-python",
   "name": "python",
   "nbconvert_exporter": "python",
   "pygments_lexer": "ipython3",
   "version": "3.10.8"
  }
 },
 "nbformat": 4,
 "nbformat_minor": 5
}
